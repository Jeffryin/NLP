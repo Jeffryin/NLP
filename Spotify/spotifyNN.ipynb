{
 "cells": [
  {
   "cell_type": "code",
   "execution_count": 1,
   "id": "04dbdbeb-6d98-4195-9dd0-682c494ef113",
   "metadata": {},
   "outputs": [
    {
     "name": "stderr",
     "output_type": "stream",
     "text": [
      "[nltk_data] Downloading package punkt to\n",
      "[nltk_data]     C:\\Users\\jifsk\\AppData\\Roaming\\nltk_data...\n",
      "[nltk_data]   Package punkt is already up-to-date!\n"
     ]
    }
   ],
   "source": [
    "import re\n",
    "import pandas as pd\n",
    "import nltk\n",
    "from nltk.tokenize import word_tokenize\n",
    "nltk.download('punkt')\n",
    "from sklearn.model_selection import train_test_split\n",
    "from sklearn.metrics import accuracy_score"
   ]
  },
  {
   "cell_type": "code",
   "execution_count": 2,
   "id": "1f8b5d42-fc2a-4432-bbb3-adfd6df4e9d3",
   "metadata": {},
   "outputs": [],
   "source": [
    "df = pd.read_csv(\"C:/Users/jifsk/Downloads/DATASET.csv\")"
   ]
  },
  {
   "cell_type": "code",
   "execution_count": 3,
   "id": "1f6859e1-cd99-4db8-8c1a-72e56de294f2",
   "metadata": {},
   "outputs": [
    {
     "data": {
      "text/html": [
       "<div>\n",
       "<style scoped>\n",
       "    .dataframe tbody tr th:only-of-type {\n",
       "        vertical-align: middle;\n",
       "    }\n",
       "\n",
       "    .dataframe tbody tr th {\n",
       "        vertical-align: top;\n",
       "    }\n",
       "\n",
       "    .dataframe thead th {\n",
       "        text-align: right;\n",
       "    }\n",
       "</style>\n",
       "<table border=\"1\" class=\"dataframe\">\n",
       "  <thead>\n",
       "    <tr style=\"text-align: right;\">\n",
       "      <th></th>\n",
       "      <th>Review</th>\n",
       "      <th>label</th>\n",
       "    </tr>\n",
       "  </thead>\n",
       "  <tbody>\n",
       "    <tr>\n",
       "      <th>0</th>\n",
       "      <td>Great music service, the audio is high quality...</td>\n",
       "      <td>POSITIVE</td>\n",
       "    </tr>\n",
       "    <tr>\n",
       "      <th>1</th>\n",
       "      <td>Please ignore previous negative rating. This a...</td>\n",
       "      <td>POSITIVE</td>\n",
       "    </tr>\n",
       "    <tr>\n",
       "      <th>2</th>\n",
       "      <td>This pop-up \"Get the best Spotify experience o...</td>\n",
       "      <td>NEGATIVE</td>\n",
       "    </tr>\n",
       "    <tr>\n",
       "      <th>3</th>\n",
       "      <td>Really buggy and terrible to use as of recently</td>\n",
       "      <td>NEGATIVE</td>\n",
       "    </tr>\n",
       "    <tr>\n",
       "      <th>4</th>\n",
       "      <td>Dear Spotify why do I get songs that I didn't ...</td>\n",
       "      <td>NEGATIVE</td>\n",
       "    </tr>\n",
       "  </tbody>\n",
       "</table>\n",
       "</div>"
      ],
      "text/plain": [
       "                                              Review     label\n",
       "0  Great music service, the audio is high quality...  POSITIVE\n",
       "1  Please ignore previous negative rating. This a...  POSITIVE\n",
       "2  This pop-up \"Get the best Spotify experience o...  NEGATIVE\n",
       "3    Really buggy and terrible to use as of recently  NEGATIVE\n",
       "4  Dear Spotify why do I get songs that I didn't ...  NEGATIVE"
      ]
     },
     "execution_count": 3,
     "metadata": {},
     "output_type": "execute_result"
    }
   ],
   "source": [
    "df.head()"
   ]
  },
  {
   "cell_type": "code",
   "execution_count": 4,
   "id": "47295ed4-feaa-4006-8c1e-0d6b2d5ec01f",
   "metadata": {},
   "outputs": [
    {
     "data": {
      "text/html": [
       "<div>\n",
       "<style scoped>\n",
       "    .dataframe tbody tr th:only-of-type {\n",
       "        vertical-align: middle;\n",
       "    }\n",
       "\n",
       "    .dataframe tbody tr th {\n",
       "        vertical-align: top;\n",
       "    }\n",
       "\n",
       "    .dataframe thead th {\n",
       "        text-align: right;\n",
       "    }\n",
       "</style>\n",
       "<table border=\"1\" class=\"dataframe\">\n",
       "  <thead>\n",
       "    <tr style=\"text-align: right;\">\n",
       "      <th></th>\n",
       "      <th>Review</th>\n",
       "      <th>label</th>\n",
       "    </tr>\n",
       "  </thead>\n",
       "  <tbody>\n",
       "    <tr>\n",
       "      <th>0</th>\n",
       "      <td>Great music service, the audio is high quality...</td>\n",
       "      <td>1</td>\n",
       "    </tr>\n",
       "    <tr>\n",
       "      <th>1</th>\n",
       "      <td>Please ignore previous negative rating. This a...</td>\n",
       "      <td>1</td>\n",
       "    </tr>\n",
       "    <tr>\n",
       "      <th>2</th>\n",
       "      <td>This pop-up \"Get the best Spotify experience o...</td>\n",
       "      <td>0</td>\n",
       "    </tr>\n",
       "    <tr>\n",
       "      <th>3</th>\n",
       "      <td>Really buggy and terrible to use as of recently</td>\n",
       "      <td>0</td>\n",
       "    </tr>\n",
       "    <tr>\n",
       "      <th>4</th>\n",
       "      <td>Dear Spotify why do I get songs that I didn't ...</td>\n",
       "      <td>0</td>\n",
       "    </tr>\n",
       "  </tbody>\n",
       "</table>\n",
       "</div>"
      ],
      "text/plain": [
       "                                              Review  label\n",
       "0  Great music service, the audio is high quality...      1\n",
       "1  Please ignore previous negative rating. This a...      1\n",
       "2  This pop-up \"Get the best Spotify experience o...      0\n",
       "3    Really buggy and terrible to use as of recently      0\n",
       "4  Dear Spotify why do I get songs that I didn't ...      0"
      ]
     },
     "execution_count": 4,
     "metadata": {},
     "output_type": "execute_result"
    }
   ],
   "source": [
    "label_map = {'POSITIVE': 1, 'NEGATIVE': 0}\n",
    "df['label'] = df['label'].map(label_map)\n",
    "df.head()"
   ]
  },
  {
   "cell_type": "code",
   "execution_count": 5,
   "id": "668e740c-48b1-4f0b-baeb-9194635d6f4d",
   "metadata": {},
   "outputs": [],
   "source": [
    "def clean_text(text):\n",
    "    if not isinstance(text, str):\n",
    "        text = str(text)\n",
    "        \n",
    "    text = text.lower()\n",
    "    text = re.sub(r'[^\\w\\s]', '', text) #removes punctuation\n",
    "    text = re.sub(r'\\d+','',text) #removes digits\n",
    "    text = text.strip()\n",
    "    return text"
   ]
  },
  {
   "cell_type": "code",
   "execution_count": 6,
   "id": "bdb7895f-695d-4e40-976d-cd1b69290af3",
   "metadata": {},
   "outputs": [],
   "source": [
    "df['Review'] = df['Review'].apply(clean_text)"
   ]
  },
  {
   "cell_type": "code",
   "execution_count": 7,
   "id": "5f4fdf73-6a5d-47cd-90eb-46c45515a905",
   "metadata": {},
   "outputs": [
    {
     "data": {
      "text/html": [
       "<div>\n",
       "<style scoped>\n",
       "    .dataframe tbody tr th:only-of-type {\n",
       "        vertical-align: middle;\n",
       "    }\n",
       "\n",
       "    .dataframe tbody tr th {\n",
       "        vertical-align: top;\n",
       "    }\n",
       "\n",
       "    .dataframe thead th {\n",
       "        text-align: right;\n",
       "    }\n",
       "</style>\n",
       "<table border=\"1\" class=\"dataframe\">\n",
       "  <thead>\n",
       "    <tr style=\"text-align: right;\">\n",
       "      <th></th>\n",
       "      <th>Review</th>\n",
       "      <th>label</th>\n",
       "      <th>tokens</th>\n",
       "    </tr>\n",
       "  </thead>\n",
       "  <tbody>\n",
       "    <tr>\n",
       "      <th>0</th>\n",
       "      <td>great music service the audio is high quality ...</td>\n",
       "      <td>1</td>\n",
       "      <td>[great, music, service, the, audio, is, high, ...</td>\n",
       "    </tr>\n",
       "    <tr>\n",
       "      <th>1</th>\n",
       "      <td>please ignore previous negative rating this ap...</td>\n",
       "      <td>1</td>\n",
       "      <td>[please, ignore, previous, negative, rating, t...</td>\n",
       "    </tr>\n",
       "    <tr>\n",
       "      <th>2</th>\n",
       "      <td>this popup get the best spotify experience on ...</td>\n",
       "      <td>0</td>\n",
       "      <td>[this, popup, get, the, best, spotify, experie...</td>\n",
       "    </tr>\n",
       "    <tr>\n",
       "      <th>3</th>\n",
       "      <td>really buggy and terrible to use as of recently</td>\n",
       "      <td>0</td>\n",
       "      <td>[really, buggy, and, terrible, to, use, as, of...</td>\n",
       "    </tr>\n",
       "    <tr>\n",
       "      <th>4</th>\n",
       "      <td>dear spotify why do i get songs that i didnt p...</td>\n",
       "      <td>0</td>\n",
       "      <td>[dear, spotify, why, do, i, get, songs, that, ...</td>\n",
       "    </tr>\n",
       "  </tbody>\n",
       "</table>\n",
       "</div>"
      ],
      "text/plain": [
       "                                              Review  label  \\\n",
       "0  great music service the audio is high quality ...      1   \n",
       "1  please ignore previous negative rating this ap...      1   \n",
       "2  this popup get the best spotify experience on ...      0   \n",
       "3    really buggy and terrible to use as of recently      0   \n",
       "4  dear spotify why do i get songs that i didnt p...      0   \n",
       "\n",
       "                                              tokens  \n",
       "0  [great, music, service, the, audio, is, high, ...  \n",
       "1  [please, ignore, previous, negative, rating, t...  \n",
       "2  [this, popup, get, the, best, spotify, experie...  \n",
       "3  [really, buggy, and, terrible, to, use, as, of...  \n",
       "4  [dear, spotify, why, do, i, get, songs, that, ...  "
      ]
     },
     "execution_count": 7,
     "metadata": {},
     "output_type": "execute_result"
    }
   ],
   "source": [
    "df['tokens'] = df['Review'].apply(word_tokenize)\n",
    "df.head()"
   ]
  },
  {
   "cell_type": "code",
   "execution_count": 8,
   "id": "432a1c17-3b17-4e10-b55d-0c1896ed3460",
   "metadata": {},
   "outputs": [],
   "source": [
    "from collections import Counter"
   ]
  },
  {
   "cell_type": "code",
   "execution_count": 9,
   "id": "0a99dafd-3e15-4f51-9c61-3a25989a225e",
   "metadata": {},
   "outputs": [],
   "source": [
    "all_tokens = [word for tokens in df['tokens'] for word in tokens] #flatten the df['tokens'] because when we use Counter it expects a flat iterable and not lists of lists\n",
    "\n",
    "vocab = Counter(all_tokens) \n",
    "\n",
    "#look up dictionary to convert tokens into a sequence of numbers\n",
    "word2idx = {word: idx+2 for idx, (word, _) in enumerate(vocab.most_common())}\n",
    "word2idx[\"<PAD>\"] = 0 #reserves 0 for padding\n",
    "word2idx[\"<UNK>\"] = 1 #resrves 1 for unknown words"
   ]
  },
  {
   "cell_type": "code",
   "execution_count": 10,
   "id": "919ddef4-33ad-4e92-82ee-2c71b05578cb",
   "metadata": {},
   "outputs": [],
   "source": [
    "df['encoded'] = df['tokens'].apply(lambda tokens: [word2idx.get(word, 1) for word in tokens]) \n",
    "#transforms the review/tokens into numerical input that our RNN will understand"
   ]
  },
  {
   "cell_type": "code",
   "execution_count": 11,
   "id": "b9fafd2f-a503-40fd-9e7e-70ba3e594240",
   "metadata": {},
   "outputs": [
    {
     "data": {
      "text/html": [
       "<div>\n",
       "<style scoped>\n",
       "    .dataframe tbody tr th:only-of-type {\n",
       "        vertical-align: middle;\n",
       "    }\n",
       "\n",
       "    .dataframe tbody tr th {\n",
       "        vertical-align: top;\n",
       "    }\n",
       "\n",
       "    .dataframe thead th {\n",
       "        text-align: right;\n",
       "    }\n",
       "</style>\n",
       "<table border=\"1\" class=\"dataframe\">\n",
       "  <thead>\n",
       "    <tr style=\"text-align: right;\">\n",
       "      <th></th>\n",
       "      <th>Review</th>\n",
       "      <th>label</th>\n",
       "      <th>tokens</th>\n",
       "      <th>encoded</th>\n",
       "    </tr>\n",
       "  </thead>\n",
       "  <tbody>\n",
       "    <tr>\n",
       "      <th>0</th>\n",
       "      <td>great music service the audio is high quality ...</td>\n",
       "      <td>1</td>\n",
       "      <td>[great, music, service, the, audio, is, high, ...</td>\n",
       "      <td>[43, 10, 144, 2, 277, 9, 607, 154, 5, 2, 7, 9,...</td>\n",
       "    </tr>\n",
       "    <tr>\n",
       "      <th>1</th>\n",
       "      <td>please ignore previous negative rating this ap...</td>\n",
       "      <td>1</td>\n",
       "      <td>[please, ignore, previous, negative, rating, t...</td>\n",
       "      <td>[72, 2380, 654, 1337, 528, 14, 7, 9, 359, 43, ...</td>\n",
       "    </tr>\n",
       "    <tr>\n",
       "      <th>2</th>\n",
       "      <td>this popup get the best spotify experience on ...</td>\n",
       "      <td>0</td>\n",
       "      <td>[this, popup, get, the, best, spotify, experie...</td>\n",
       "      <td>[14, 1409, 57, 2, 61, 17, 142, 20, 228, 9, 99,...</td>\n",
       "    </tr>\n",
       "    <tr>\n",
       "      <th>3</th>\n",
       "      <td>really buggy and terrible to use as of recently</td>\n",
       "      <td>0</td>\n",
       "      <td>[really, buggy, and, terrible, to, use, as, of...</td>\n",
       "      <td>[65, 298, 5, 370, 4, 56, 63, 13, 244]</td>\n",
       "    </tr>\n",
       "    <tr>\n",
       "      <th>4</th>\n",
       "      <td>dear spotify why do i get songs that i didnt p...</td>\n",
       "      <td>0</td>\n",
       "      <td>[dear, spotify, why, do, i, get, songs, that, ...</td>\n",
       "      <td>[1938, 17, 103, 90, 3, 57, 18, 21, 3, 251, 264...</td>\n",
       "    </tr>\n",
       "  </tbody>\n",
       "</table>\n",
       "</div>"
      ],
      "text/plain": [
       "                                              Review  label  \\\n",
       "0  great music service the audio is high quality ...      1   \n",
       "1  please ignore previous negative rating this ap...      1   \n",
       "2  this popup get the best spotify experience on ...      0   \n",
       "3    really buggy and terrible to use as of recently      0   \n",
       "4  dear spotify why do i get songs that i didnt p...      0   \n",
       "\n",
       "                                              tokens  \\\n",
       "0  [great, music, service, the, audio, is, high, ...   \n",
       "1  [please, ignore, previous, negative, rating, t...   \n",
       "2  [this, popup, get, the, best, spotify, experie...   \n",
       "3  [really, buggy, and, terrible, to, use, as, of...   \n",
       "4  [dear, spotify, why, do, i, get, songs, that, ...   \n",
       "\n",
       "                                             encoded  \n",
       "0  [43, 10, 144, 2, 277, 9, 607, 154, 5, 2, 7, 9,...  \n",
       "1  [72, 2380, 654, 1337, 528, 14, 7, 9, 359, 43, ...  \n",
       "2  [14, 1409, 57, 2, 61, 17, 142, 20, 228, 9, 99,...  \n",
       "3              [65, 298, 5, 370, 4, 56, 63, 13, 244]  \n",
       "4  [1938, 17, 103, 90, 3, 57, 18, 21, 3, 251, 264...  "
      ]
     },
     "execution_count": 11,
     "metadata": {},
     "output_type": "execute_result"
    }
   ],
   "source": [
    "df.head()"
   ]
  },
  {
   "cell_type": "code",
   "execution_count": 12,
   "id": "9bbeb0a7-11aa-422e-a2a6-47235de2598d",
   "metadata": {},
   "outputs": [],
   "source": [
    "#now to pad the data since it will need to be a uniform input shape\n",
    "from torch.nn.utils.rnn import pad_sequence\n",
    "import torch"
   ]
  },
  {
   "cell_type": "code",
   "execution_count": 13,
   "id": "7639b98e-d9fe-4a27-9ca8-5d92507ef716",
   "metadata": {},
   "outputs": [],
   "source": [
    "encoded_seqs = [torch.tensor(seq) for seq in df['encoded']]\n",
    "\n",
    "padded_seqs = pad_sequence(encoded_seqs, batch_first = True, padding_value = 0)"
   ]
  },
  {
   "cell_type": "code",
   "execution_count": 14,
   "id": "d34385a0-dcb8-4dfa-8cf8-24670e72a7bd",
   "metadata": {},
   "outputs": [],
   "source": [
    "import torch.nn as nn\n",
    "\n",
    "vocab_size = len(word2idx) # number of unique tokens in our vocab/df\n",
    "embedding_dim = 100\n",
    "\n",
    "embedding = nn.Embedding(num_embeddings = vocab_size, embedding_dim = embedding_dim, padding_idx = 0)"
   ]
  },
  {
   "cell_type": "code",
   "execution_count": 15,
   "id": "8a78ceb2-25d0-4202-98c2-2bfa322ceb7d",
   "metadata": {},
   "outputs": [],
   "source": [
    "embedded = embedding(padded_seqs)"
   ]
  },
  {
   "cell_type": "code",
   "execution_count": 16,
   "id": "54dc8005-f0e8-45eb-bcc6-2d899c1ae482",
   "metadata": {},
   "outputs": [],
   "source": [
    "X = df['encoded'].tolist()\n",
    "y = df['label'].tolist()\n",
    "\n",
    "X_train, X_test, y_train, y_test = train_test_split(\n",
    "    X, y, test_size = 0.25, random_state = 42\n",
    ")"
   ]
  },
  {
   "cell_type": "code",
   "execution_count": 17,
   "id": "5408fcc4-1e0c-4b15-ad6b-86a063e27207",
   "metadata": {},
   "outputs": [
    {
     "name": "stdout",
     "output_type": "stream",
     "text": [
      "<class 'list'>\n",
      "<class 'list'>\n",
      "<class 'int'>\n",
      "[37, 745, 11, 1524, 5, 241, 48, 113, 12, 228, 384, 4, 644, 2, 170, 13, 2, 18]\n"
     ]
    }
   ],
   "source": [
    "print(type(X_train))           # should be <class 'list'>\n",
    "print(type(X_train[0]))        # should be <class 'list'>\n",
    "print(type(X_train[0][0]))     # should be <class 'int'>\n",
    "print(X_train[0])              # should look like [43, 10, 144, 2, ...]"
   ]
  },
  {
   "cell_type": "code",
   "execution_count": 18,
   "id": "bff58ef7-65c6-4014-a910-3ca7262edf80",
   "metadata": {},
   "outputs": [],
   "source": [
    "df = df[df['encoded'].map(len) > 0]"
   ]
  },
  {
   "cell_type": "code",
   "execution_count": 19,
   "id": "fe08f33e-2fbb-4c13-80d9-eb7293f5b6eb",
   "metadata": {},
   "outputs": [],
   "source": [
    "def pad_and_tensor(sequences):\n",
    "    tensor_seq = [torch.tensor(seq, dtype=torch.long) for seq in sequences if len(seq) > 0]\n",
    "    padded = pad_sequence(tensor_seq, batch_first = True, padding_value = 0)\n",
    "    return padded"
   ]
  },
  {
   "cell_type": "code",
   "execution_count": 20,
   "id": "1a4b590e-03fc-4148-bd23-d05a7f02abcc",
   "metadata": {},
   "outputs": [
    {
     "data": {
      "text/html": [
       "<div>\n",
       "<style scoped>\n",
       "    .dataframe tbody tr th:only-of-type {\n",
       "        vertical-align: middle;\n",
       "    }\n",
       "\n",
       "    .dataframe tbody tr th {\n",
       "        vertical-align: top;\n",
       "    }\n",
       "\n",
       "    .dataframe thead th {\n",
       "        text-align: right;\n",
       "    }\n",
       "</style>\n",
       "<table border=\"1\" class=\"dataframe\">\n",
       "  <thead>\n",
       "    <tr style=\"text-align: right;\">\n",
       "      <th></th>\n",
       "      <th>Review</th>\n",
       "      <th>label</th>\n",
       "      <th>tokens</th>\n",
       "      <th>encoded</th>\n",
       "    </tr>\n",
       "  </thead>\n",
       "  <tbody>\n",
       "    <tr>\n",
       "      <th>0</th>\n",
       "      <td>great music service the audio is high quality ...</td>\n",
       "      <td>1</td>\n",
       "      <td>[great, music, service, the, audio, is, high, ...</td>\n",
       "      <td>[43, 10, 144, 2, 277, 9, 607, 154, 5, 2, 7, 9,...</td>\n",
       "    </tr>\n",
       "    <tr>\n",
       "      <th>1</th>\n",
       "      <td>please ignore previous negative rating this ap...</td>\n",
       "      <td>1</td>\n",
       "      <td>[please, ignore, previous, negative, rating, t...</td>\n",
       "      <td>[72, 2380, 654, 1337, 528, 14, 7, 9, 359, 43, ...</td>\n",
       "    </tr>\n",
       "    <tr>\n",
       "      <th>2</th>\n",
       "      <td>this popup get the best spotify experience on ...</td>\n",
       "      <td>0</td>\n",
       "      <td>[this, popup, get, the, best, spotify, experie...</td>\n",
       "      <td>[14, 1409, 57, 2, 61, 17, 142, 20, 228, 9, 99,...</td>\n",
       "    </tr>\n",
       "    <tr>\n",
       "      <th>3</th>\n",
       "      <td>really buggy and terrible to use as of recently</td>\n",
       "      <td>0</td>\n",
       "      <td>[really, buggy, and, terrible, to, use, as, of...</td>\n",
       "      <td>[65, 298, 5, 370, 4, 56, 63, 13, 244]</td>\n",
       "    </tr>\n",
       "    <tr>\n",
       "      <th>4</th>\n",
       "      <td>dear spotify why do i get songs that i didnt p...</td>\n",
       "      <td>0</td>\n",
       "      <td>[dear, spotify, why, do, i, get, songs, that, ...</td>\n",
       "      <td>[1938, 17, 103, 90, 3, 57, 18, 21, 3, 251, 264...</td>\n",
       "    </tr>\n",
       "  </tbody>\n",
       "</table>\n",
       "</div>"
      ],
      "text/plain": [
       "                                              Review  label  \\\n",
       "0  great music service the audio is high quality ...      1   \n",
       "1  please ignore previous negative rating this ap...      1   \n",
       "2  this popup get the best spotify experience on ...      0   \n",
       "3    really buggy and terrible to use as of recently      0   \n",
       "4  dear spotify why do i get songs that i didnt p...      0   \n",
       "\n",
       "                                              tokens  \\\n",
       "0  [great, music, service, the, audio, is, high, ...   \n",
       "1  [please, ignore, previous, negative, rating, t...   \n",
       "2  [this, popup, get, the, best, spotify, experie...   \n",
       "3  [really, buggy, and, terrible, to, use, as, of...   \n",
       "4  [dear, spotify, why, do, i, get, songs, that, ...   \n",
       "\n",
       "                                             encoded  \n",
       "0  [43, 10, 144, 2, 277, 9, 607, 154, 5, 2, 7, 9,...  \n",
       "1  [72, 2380, 654, 1337, 528, 14, 7, 9, 359, 43, ...  \n",
       "2  [14, 1409, 57, 2, 61, 17, 142, 20, 228, 9, 99,...  \n",
       "3              [65, 298, 5, 370, 4, 56, 63, 13, 244]  \n",
       "4  [1938, 17, 103, 90, 3, 57, 18, 21, 3, 251, 264...  "
      ]
     },
     "execution_count": 20,
     "metadata": {},
     "output_type": "execute_result"
    }
   ],
   "source": [
    "df.head()"
   ]
  },
  {
   "cell_type": "code",
   "execution_count": 21,
   "id": "498c574d-414a-469d-bb98-ce8f925b083e",
   "metadata": {
    "scrolled": true
   },
   "outputs": [],
   "source": [
    "X_train_padded = pad_and_tensor(X_train)\n",
    "X_test_padded = pad_and_tensor(X_test)\n",
    "y_train_tensor = torch.tensor(y_train, dtype = torch.long)\n",
    "y_test_tensor= torch.tensor(y_test,dtype = torch.long)"
   ]
  },
  {
   "cell_type": "code",
   "execution_count": 22,
   "id": "4f8949e3-c9e4-48dd-aa98-71b7a9649c25",
   "metadata": {},
   "outputs": [
    {
     "name": "stdout",
     "output_type": "stream",
     "text": [
      "Using device: cuda\n"
     ]
    }
   ],
   "source": [
    "device = torch.device(\"cuda\" if torch.cuda.is_available() else \"cpu\")\n",
    "print(f\"Using device: {device}\")"
   ]
  },
  {
   "cell_type": "code",
   "execution_count": 23,
   "id": "ac1f6e61-a06a-478a-afd6-7b5a9fb87857",
   "metadata": {},
   "outputs": [],
   "source": [
    "rnn = nn.RNN(\n",
    "    input_size = embedding_dim,\n",
    "    hidden_size = 64,\n",
    "    num_layers = 3,\n",
    "    batch_first = True\n",
    ")\n",
    "\n",
    "fc = nn.Linear(64,2)\n",
    "\n",
    "embedding = embedding.to(device)\n",
    "rnn = rnn.to(device)\n",
    "fc = fc.to(device)\n",
    "\n",
    "num_epochs = 10"
   ]
  },
  {
   "cell_type": "code",
   "execution_count": 24,
   "id": "30a0d87b-7a54-4833-bb2c-d7e559fb9e09",
   "metadata": {},
   "outputs": [],
   "source": [
    "from torch.utils.data import TensorDataset, DataLoader\n",
    "import torch.optim as optim"
   ]
  },
  {
   "cell_type": "code",
   "execution_count": 25,
   "id": "1d1fa4b6-c972-43a1-9b79-23d181b64358",
   "metadata": {},
   "outputs": [
    {
     "name": "stdout",
     "output_type": "stream",
     "text": [
      "torch.Size([39525, 422])\n",
      "torch.Size([39526])\n"
     ]
    }
   ],
   "source": [
    "print(X_train_padded.shape)   # should be (num_samples, seq_len)\n",
    "print(y_train_tensor.shape)   # should be (num_samples,)"
   ]
  },
  {
   "cell_type": "code",
   "execution_count": 26,
   "id": "80cceef7-5376-4bd7-bc50-6688ed3c8b4a",
   "metadata": {},
   "outputs": [
    {
     "name": "stdout",
     "output_type": "stream",
     "text": [
      "1\n"
     ]
    }
   ],
   "source": [
    "print([len(seq) for seq in X_train].count(0))  # should be 0 ideally"
   ]
  },
  {
   "cell_type": "code",
   "execution_count": 27,
   "id": "0b42df07-75e7-49c6-b4b8-d29954b7516a",
   "metadata": {},
   "outputs": [],
   "source": [
    "filtered_X_train = []\n",
    "filtered_y_train = []\n",
    "\n",
    "for seq, label in zip(X_train, y_train):\n",
    "    if len(seq) > 0:\n",
    "        filtered_X_train.append(seq)\n",
    "        filtered_y_train.append(label)\n",
    "\n",
    "X_train = filtered_X_train\n",
    "y_train = filtered_y_train"
   ]
  },
  {
   "cell_type": "code",
   "execution_count": 28,
   "id": "b078386a-2a87-4584-b5e3-a2ae5381b10f",
   "metadata": {},
   "outputs": [
    {
     "name": "stdout",
     "output_type": "stream",
     "text": [
      "torch.Size([39525, 422])\n",
      "torch.Size([39525])\n"
     ]
    }
   ],
   "source": [
    "X_train_padded = pad_sequence([torch.tensor(seq) for seq in X_train], batch_first=True, padding_value=0)\n",
    "y_train_tensor = torch.tensor(y_train, dtype=torch.long)\n",
    "\n",
    "print(X_train_padded.shape)\n",
    "print(y_train_tensor.shape)"
   ]
  },
  {
   "cell_type": "code",
   "execution_count": 29,
   "id": "16a197ea-49ff-47c2-95e9-9e5ab1a6d2a3",
   "metadata": {},
   "outputs": [],
   "source": [
    "loss_fn = nn.CrossEntropyLoss()\n",
    "optimizer = optim.Adam(list(embedding.parameters()) + list(rnn.parameters()) + list(fc.parameters()), lr = 0.0001)\n",
    "\n",
    "train_dataset = TensorDataset(X_train_padded, y_train_tensor)\n",
    "train_loader = DataLoader(train_dataset, batch_size = 32, shuffle = True)"
   ]
  },
  {
   "cell_type": "code",
   "execution_count": 30,
   "id": "f4e8fb20-113b-4691-841f-2c63d779d1ab",
   "metadata": {},
   "outputs": [
    {
     "name": "stdout",
     "output_type": "stream",
     "text": [
      "True\n",
      "0\n",
      "NVIDIA GeForce RTX 3080 Ti\n"
     ]
    }
   ],
   "source": [
    "print(torch.cuda.is_available())  # Should print True if CUDA GPU is accessible\n",
    "print(torch.cuda.current_device())  # Device ID, usually 0 if you have 1 GPU\n",
    "print(torch.cuda.get_device_name(0))  # Name of your GPU"
   ]
  },
  {
   "cell_type": "code",
   "execution_count": 34,
   "id": "bdcc4ee4-e301-4a8d-a1fb-f1f94035e779",
   "metadata": {},
   "outputs": [
    {
     "name": "stdout",
     "output_type": "stream",
     "text": [
      "Epoch 1 | Loss: 848.4086 | Acc: 0.5581 | Prec: 0.0000 | Rec: 0.0000 | F1: 0.0000\n",
      "Epoch 2 | Loss: 848.4906 | Acc: 0.5581 | Prec: 0.0000 | Rec: 0.0000 | F1: 0.0000\n",
      "Epoch 3 | Loss: 848.3615 | Acc: 0.5581 | Prec: 0.0000 | Rec: 0.0000 | F1: 0.0000\n",
      "Epoch 4 | Loss: 848.5347 | Acc: 0.5581 | Prec: 0.0000 | Rec: 0.0000 | F1: 0.0000\n",
      "Epoch 5 | Loss: 848.4494 | Acc: 0.5581 | Prec: 0.0000 | Rec: 0.0000 | F1: 0.0000\n",
      "Epoch 6 | Loss: 848.4010 | Acc: 0.5581 | Prec: 0.0000 | Rec: 0.0000 | F1: 0.0000\n",
      "Epoch 7 | Loss: 848.4069 | Acc: 0.5581 | Prec: 0.0000 | Rec: 0.0000 | F1: 0.0000\n",
      "Epoch 8 | Loss: 848.4509 | Acc: 0.5581 | Prec: 0.0000 | Rec: 0.0000 | F1: 0.0000\n",
      "Epoch 9 | Loss: 848.4026 | Acc: 0.5581 | Prec: 0.0000 | Rec: 0.0000 | F1: 0.0000\n",
      "Epoch 10 | Loss: 848.3468 | Acc: 0.5581 | Prec: 0.0000 | Rec: 0.0000 | F1: 0.0000\n"
     ]
    }
   ],
   "source": [
    "from sklearn.metrics import accuracy_score, precision_score, recall_score, f1_score\n",
    "\n",
    "for epoch in range(num_epochs):\n",
    "    rnn.train()\n",
    "    total_loss = 0\n",
    "\n",
    "    all_preds = []\n",
    "    all_labels = []\n",
    "\n",
    "    for X_batch, y_batch in train_loader:\n",
    "        X_batch, y_batch = X_batch.to(device), y_batch.to(device)\n",
    "\n",
    "        optimizer.zero_grad()\n",
    "\n",
    "        embedded = embedding(X_batch)\n",
    "        output, hidden = rnn(embedded)\n",
    "        final_output = hidden[-1]\n",
    "        logits = fc(final_output)\n",
    "\n",
    "        loss = loss_fn(logits, y_batch)\n",
    "        loss.backward()\n",
    "        optimizer.step()\n",
    "\n",
    "        total_loss += loss.item()\n",
    "\n",
    "        # Collect predictions and labels\n",
    "        preds = torch.argmax(logits, dim=1)\n",
    "        all_preds.extend(preds.cpu().numpy())\n",
    "        all_labels.extend(y_batch.cpu().numpy())\n",
    "\n",
    "    # Compute metrics at the end of the epoch\n",
    "    train_acc = accuracy_score(all_labels, all_preds)\n",
    "    train_prec = precision_score(all_labels, all_preds, zero_division=0)\n",
    "    train_rec = recall_score(all_labels, all_preds, zero_division=0)\n",
    "    train_f1 = f1_score(all_labels, all_preds, zero_division=0)\n",
    "\n",
    "\n",
    "    print(f\"Epoch {epoch+1} | Loss: {total_loss:.4f} | \"\n",
    "          f\"Acc: {train_acc:.4f} | Prec: {train_prec:.4f} | \"\n",
    "          f\"Rec: {train_rec:.4f} | F1: {train_f1:.4f}\")\n"
   ]
  },
  {
   "cell_type": "code",
   "execution_count": null,
   "id": "087676c1-9913-489a-9e69-dc4657639503",
   "metadata": {},
   "outputs": [],
   "source": []
  }
 ],
 "metadata": {
  "kernelspec": {
   "display_name": "Python 3 (ipykernel)",
   "language": "python",
   "name": "python3"
  },
  "language_info": {
   "codemirror_mode": {
    "name": "ipython",
    "version": 3
   },
   "file_extension": ".py",
   "mimetype": "text/x-python",
   "name": "python",
   "nbconvert_exporter": "python",
   "pygments_lexer": "ipython3",
   "version": "3.10.16"
  }
 },
 "nbformat": 4,
 "nbformat_minor": 5
}
